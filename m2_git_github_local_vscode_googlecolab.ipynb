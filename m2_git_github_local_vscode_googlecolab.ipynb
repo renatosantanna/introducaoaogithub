{
 "cells": [
  {
   "cell_type": "markdown",
   "id": "13ba3555-9d20-41bf-b007-4361a6f3962d",
   "metadata": {},
   "source": [
    "\n",
    "# Módulo 2: Introdução de Git e GitHub para Desenvolvedores. "
   ]
  },
  {
   "cell_type": "markdown",
   "id": "0bc99dea-322a-41f8-8967-35b47d7abce8",
   "metadata": {},
   "source": [
    "## 1. Introdução ao Git e GitHub?"
   ]
  },
  {
   "cell_type": "markdown",
   "id": "75af596c-7388-42c6-b921-703604254646",
   "metadata": {},
   "source": [
    "### O que é Git?\n",
    "\n",
    "Git é um sistema de controle de versão distribuído que permite que você acompanhe as mudanças em arquivos e pastas ao longo do tempo."
   ]
  },
  {
   "cell_type": "markdown",
   "id": "0b94dfeb-42f2-4818-b04d-53d23d443363",
   "metadata": {},
   "source": [
    "### O que é GitHub?\n",
    "\n",
    "GitHub é uma plataforma online que hospeda repositórios Git, permitindo colaboração e compartilhamento de código."
   ]
  },
  {
   "cell_type": "markdown",
   "id": "93b95024-c7a2-4eda-871d-a5704b45a617",
   "metadata": {},
   "source": [
    "### Diferença entre Git e GitHub\n",
    "\n",
    "- **Git:** Ferramenta de controle de versão.\n",
    "  \n",
    "- **GitHub:** Plataforma para hospedar repositórios Git."
   ]
  },
  {
   "cell_type": "markdown",
   "id": "191b7f56-faf4-49ca-92ba-fe898e813577",
   "metadata": {},
   "source": [
    "## 2. Instalação e Configuração do Git."
   ]
  },
  {
   "cell_type": "markdown",
   "id": "e760d250-8b8d-43a8-8db2-b9e08907e738",
   "metadata": {},
   "source": [
    "### Instalando o Git\n",
    "\n",
    "Visite [git-scm.com](https://git-scm.com/) e siga as instruções de instalação para o seu sistema operacional."
   ]
  },
  {
   "cell_type": "markdown",
   "id": "cbb0881b-9957-452b-a539-1f46bad06463",
   "metadata": {},
   "source": [
    "### Configurando o Git\n",
    "\n",
    "Após instalar, configure seu nome de usuário e e-mail:"
   ]
  },
  {
   "cell_type": "code",
   "execution_count": null,
   "id": "0ff9b207-f19a-4410-adc5-af63a80e4f0a",
   "metadata": {},
   "outputs": [],
   "source": [
    "git config --global user.name \"Seu Nome\"\n",
    "git config --global user.email \"seuemail@exemplo.com\""
   ]
  },
  {
   "cell_type": "markdown",
   "id": "cadb7c4a-1d27-45c9-8afa-2d6678f408ca",
   "metadata": {},
   "source": [
    "## 3. Comandos Básicos do Git"
   ]
  },
  {
   "cell_type": "markdown",
   "id": "dd666609-c036-4c69-bc66-bf2587fc28bf",
   "metadata": {},
   "source": [
    "### Inicializando um Repositório"
   ]
  },
  {
   "cell_type": "code",
   "execution_count": null,
   "id": "f8c5f3ee-0ec9-44e9-a740-c5e9f480fabd",
   "metadata": {},
   "outputs": [],
   "source": [
    "git init"
   ]
  },
  {
   "cell_type": "markdown",
   "id": "9751bbd6-7038-4865-b9aa-5d863fe42c7d",
   "metadata": {},
   "source": [
    "### Adicionando Arquivos para Staging"
   ]
  },
  {
   "cell_type": "code",
   "execution_count": null,
   "id": "64f71d74-a425-4a0f-b106-815d825e8c68",
   "metadata": {},
   "outputs": [],
   "source": [
    "git add .\n"
   ]
  },
  {
   "cell_type": "markdown",
   "id": "0b79457f-327a-4f3d-aed0-47ed8da350dc",
   "metadata": {},
   "source": [
    "### Confirmando Alterações\r\n"
   ]
  },
  {
   "cell_type": "code",
   "execution_count": null,
   "id": "28ab183b-a413-48fd-8f62-64be77af3954",
   "metadata": {},
   "outputs": [],
   "source": [
    "git commit -m \"Mensagem do commit\""
   ]
  },
  {
   "cell_type": "markdown",
   "id": "9db8b2f6-75dd-44ba-b531-d3c59e6dbc7b",
   "metadata": {},
   "source": [
    "### Verificando o Status dos Arquivos"
   ]
  },
  {
   "cell_type": "code",
   "execution_count": null,
   "id": "a86ddfc2-648f-4535-af03-2bc88fd03171",
   "metadata": {},
   "outputs": [],
   "source": [
    "git status"
   ]
  },
  {
   "cell_type": "markdown",
   "id": "751953c2-8f63-4cf6-95ca-04a9a4f6411a",
   "metadata": {},
   "source": [
    "### Visualizando o Histórico de Commits"
   ]
  },
  {
   "cell_type": "code",
   "execution_count": null,
   "id": "79dc2366-080c-404c-be3f-c360bc36002e",
   "metadata": {},
   "outputs": [],
   "source": [
    "git log"
   ]
  },
  {
   "cell_type": "markdown",
   "id": "8ebe78b3-80a1-4512-8e8e-307b3e898b53",
   "metadata": {},
   "source": [
    "## 4. Trabalhando com Repositórios Remotos no GitHub"
   ]
  },
  {
   "cell_type": "markdown",
   "id": "f19ea04a-914e-4154-87a9-5d50a1b9f735",
   "metadata": {},
   "source": [
    "### Criando uma Conta no GitHub\n",
    "\r\n",
    "Acesse[ github.co](https://github.com/)m e clique em \"Sign up\".\n",
    "\r\n",
    "Preencha os campos necessários para criar sua conta."
   ]
  },
  {
   "cell_type": "markdown",
   "id": "95585221-1b35-4a17-afd6-e0c91c442793",
   "metadata": {},
   "source": [
    "### Criando um Repositório no GitHub\n",
    "\n",
    "1. Faça login no GitHub.\n",
    "2. Clique no ícone + no canto superior direito e selecione “New repository”.\n",
    "3. Dê um nome ao seu repositório e clique em “Create repository”."
   ]
  },
  {
   "cell_type": "markdown",
   "id": "68e4e685-45f5-42c5-91fc-286b414e2110",
   "metadata": {},
   "source": [
    "### Clonando um Repositório\r\n"
   ]
  },
  {
   "cell_type": "code",
   "execution_count": null,
   "id": "e30db3e0-eb3c-421e-9698-463d87379fb4",
   "metadata": {},
   "outputs": [],
   "source": [
    "git clone https://github.com/usuario/repositorio.git"
   ]
  },
  {
   "cell_type": "markdown",
   "id": "c26b74d9-2f20-494e-8b3c-0c415ede69f8",
   "metadata": {},
   "source": [
    "### Enviando Alterações para o GitHub"
   ]
  },
  {
   "cell_type": "code",
   "execution_count": null,
   "id": "7515736c-971c-447a-a502-e2ab473f5fa8",
   "metadata": {},
   "outputs": [],
   "source": [
    "git push origin main\n"
   ]
  },
  {
   "cell_type": "markdown",
   "id": "622d8045-b30e-453c-a613-def1c2f26f5c",
   "metadata": {},
   "source": [
    "### Puxando Alterações do GitHub\n",
    "\n"
   ]
  },
  {
   "cell_type": "code",
   "execution_count": null,
   "id": "b3ac2f4f-dc65-4d61-aa8a-bf2f706b7732",
   "metadata": {},
   "outputs": [],
   "source": [
    "git pull origin main"
   ]
  },
  {
   "cell_type": "markdown",
   "id": "5f1b97d3-7b73-4312-87c8-ee71c6ed669f",
   "metadata": {},
   "source": [
    "## 5. Fluxo de Trabalho com Git e GitHub\r\n"
   ]
  },
  {
   "cell_type": "markdown",
   "id": "c9483db6-4238-482c-b35d-d94a09151b8d",
   "metadata": {},
   "source": [
    "### Fluxograma do Fluxo de Trabalho\n",
    "\n",
    "<!-- Figura: (Insira um fluxograma ilustrando os seguintes passos) -->\n",
    "\n",
    "1. Modificar arquivos no diretório de trabalho com **`cd...`** para pasta correspondente.\n",
    "2. Adicionar arquivos modificados à área de staging com **`git add.`**\n",
    "3. Confirmar as alterações com **`git commit.`**\n",
    "4. Enviar as alterações para o repositório remoto com **`git push.`**\n",
    "5. Puxar alterações do repositório remoto com **`git pull`** para manter o repositório local atualizado."
   ]
  },
  {
   "cell_type": "markdown",
   "id": "603da6da-d648-4f08-a02a-c477d7145b12",
   "metadata": {},
   "source": [
    "## 6. Situações Práticas\n"
   ]
  },
  {
   "cell_type": "markdown",
   "id": "0570368f-8235-4f56-b6f3-f0454aaeb91c",
   "metadata": {},
   "source": [
    "### Enviando uma Pasta Local para o GitHub\r\n"
   ]
  },
  {
   "cell_type": "markdown",
   "id": "18c3c17a-b928-43f9-9c9b-9901f01ec534",
   "metadata": {},
   "source": [
    "- #### 1. Inicialize um repositório Git na pasta local:\n"
   ]
  },
  {
   "cell_type": "code",
   "execution_count": null,
   "id": "ef40bb83-505f-4aa2-8269-838d8019a8f2",
   "metadata": {},
   "outputs": [],
   "source": [
    "git init"
   ]
  },
  {
   "cell_type": "markdown",
   "id": "09378129-a9ab-4882-a2c4-ed41fa804579",
   "metadata": {},
   "source": [
    "- #### 2. Adicione todos os arquivos à área de staging:\r\n"
   ]
  },
  {
   "cell_type": "code",
   "execution_count": null,
   "id": "7a4010db-58c4-478d-9bba-6bcac7827224",
   "metadata": {},
   "outputs": [],
   "source": [
    "git add .\n"
   ]
  },
  {
   "cell_type": "markdown",
   "id": "db6273cf-962c-4bdc-8e88-cdcaafc9d25d",
   "metadata": {},
   "source": [
    "- #### 3. Faça um commit com uma mensagem descritiva:\r\n"
   ]
  },
  {
   "cell_type": "code",
   "execution_count": null,
   "id": "5add2057-4e22-490f-a071-5563cf9c0167",
   "metadata": {},
   "outputs": [],
   "source": [
    "git commit -m \"Initial commit\"\n"
   ]
  },
  {
   "cell_type": "markdown",
   "id": "fab717eb-0f5d-4521-b904-ec3bf184cb75",
   "metadata": {},
   "source": [
    "- #### 4. Adicione o repositório remoto:\r\n"
   ]
  },
  {
   "cell_type": "code",
   "execution_count": null,
   "id": "e46a9ec0-4ee1-47da-ab93-36d5a088d21d",
   "metadata": {},
   "outputs": [],
   "source": [
    "git remote add origin https://github.com/usuario/repositorio.git"
   ]
  },
  {
   "cell_type": "markdown",
   "id": "64471193-14e2-4255-8060-e9b875d1976d",
   "metadata": {},
   "source": [
    "- #### Envie (push) suas alterações para o repositório remoto:\r\n"
   ]
  },
  {
   "cell_type": "code",
   "execution_count": null,
   "id": "481561dc-1a03-4a0a-b6ac-f84342d50b45",
   "metadata": {},
   "outputs": [],
   "source": [
    "git push -u origin main\n"
   ]
  },
  {
   "cell_type": "markdown",
   "id": "7a65ac01-1e1c-42a5-a6f9-380f731c7917",
   "metadata": {},
   "source": [
    "### Enviando um Único Arquivo para o GitHub\r\n"
   ]
  },
  {
   "cell_type": "markdown",
   "id": "a2a9ab35-da11-496d-894d-ba0e50b42ada",
   "metadata": {},
   "source": [
    "- #### 1. Crie ou modifique o arquivo desejado.\r\n"
   ]
  },
  {
   "cell_type": "markdown",
   "id": "a9ab0f67-8d7b-44d7-a693-f5ed6a041f67",
   "metadata": {},
   "source": [
    "- #### 2. Adicione o arquivo específico à área de staging:\r\n"
   ]
  },
  {
   "cell_type": "code",
   "execution_count": null,
   "id": "8265f794-8587-44a3-a4c2-485de9133d86",
   "metadata": {},
   "outputs": [],
   "source": [
    "git add nome_do_arquivo.extensao\n"
   ]
  },
  {
   "cell_type": "markdown",
   "id": "c576f203-fd45-4b4f-af7c-45d4183bdd1a",
   "metadata": {},
   "source": [
    "- #### 3. Faça um commit com uma mensagem descritiva:\r\n"
   ]
  },
  {
   "cell_type": "code",
   "execution_count": null,
   "id": "1f190698-ac41-488f-bade-d317b1aa7477",
   "metadata": {},
   "outputs": [],
   "source": [
    "git commit -m \"Adicionando/modificando nome_do_arquivo.extensao\"\n"
   ]
  },
  {
   "cell_type": "markdown",
   "id": "6bd533ea-c74f-42c3-aeed-6e82478e173b",
   "metadata": {},
   "source": [
    "- #### 4. Envie (push) suas alterações para o repositório remoto:\r\n"
   ]
  },
  {
   "cell_type": "code",
   "execution_count": null,
   "id": "d6e66c81-6158-4223-9674-238de42a13d0",
   "metadata": {},
   "outputs": [],
   "source": [
    "git push origin main\n"
   ]
  },
  {
   "cell_type": "markdown",
   "id": "fda66cd0-4841-4dde-beb1-9014b4f3764d",
   "metadata": {},
   "source": [
    "## 7. Branches e Merging\r\n"
   ]
  },
  {
   "cell_type": "markdown",
   "id": "dc74bdda-32ba-4f23-b832-ac6bba89e044",
   "metadata": {},
   "source": [
    "### Criando e Alternando Branches\r\n"
   ]
  },
  {
   "cell_type": "markdown",
   "id": "5c9864c7-ff97-4efc-9e3d-b02d875978af",
   "metadata": {},
   "source": [
    "- #### 1. Crie um novo branch chamado testing:\r\n"
   ]
  },
  {
   "cell_type": "code",
   "execution_count": null,
   "id": "4a0466eb-8884-4b3e-b377-2309b80bedb0",
   "metadata": {},
   "outputs": [],
   "source": [
    "git branch testing"
   ]
  },
  {
   "cell_type": "markdown",
   "id": "7a9e204f-5d52-4790-aae8-b769a99b6112",
   "metadata": {},
   "source": [
    "- #### 2. Alterne para o branch testing:\r\n"
   ]
  },
  {
   "cell_type": "code",
   "execution_count": null,
   "id": "bc4cdc2b-596c-48ac-bae3-e6140a27fb9d",
   "metadata": {},
   "outputs": [],
   "source": [
    "git checkout testing\n"
   ]
  },
  {
   "cell_type": "markdown",
   "id": "d148e79b-10da-40c0-8990-00b40307465a",
   "metadata": {},
   "source": [
    "### Fazendo Merge de Branches\r\n"
   ]
  },
  {
   "cell_type": "markdown",
   "id": "984c64e7-49a3-4719-86ad-4ec1834b275b",
   "metadata": {},
   "source": [
    "- #### 1. Alterne para o branch principal:\r\n"
   ]
  },
  {
   "cell_type": "code",
   "execution_count": null,
   "id": "a54480d0-ee1c-48dd-bb49-456c276539ca",
   "metadata": {},
   "outputs": [],
   "source": [
    "git checkout main"
   ]
  },
  {
   "cell_type": "markdown",
   "id": "3d163287-8517-4197-99ad-8226c3492df6",
   "metadata": {},
   "source": [
    "- #### Faça o merge do branch testing:\r\n"
   ]
  },
  {
   "cell_type": "code",
   "execution_count": null,
   "id": "f19b9b1b-5527-4317-9518-287584db1936",
   "metadata": {},
   "outputs": [],
   "source": [
    "git merge testing\n"
   ]
  },
  {
   "cell_type": "markdown",
   "id": "41dee12e-6e30-49d0-8811-f49e35bfd87b",
   "metadata": {},
   "source": [
    "## 8. Trabalhando com Repositórios Remotos\r\n"
   ]
  },
  {
   "cell_type": "markdown",
   "id": "2316b421-97eb-46c1-ac6d-3e4085e4c1bb",
   "metadata": {},
   "source": [
    "### Verificando e Adicionando Remotes\r\n"
   ]
  },
  {
   "cell_type": "markdown",
   "id": "20663ffb-871b-4af7-b983-d830983293a0",
   "metadata": {},
   "source": [
    "- #### 1. Para listar os repositórios remotos configurados:\r\n",
    "\r\n"
   ]
  },
  {
   "cell_type": "code",
   "execution_count": null,
   "id": "a5fb29d3-4073-4f89-a454-92dc207eb07f",
   "metadata": {},
   "outputs": [],
   "source": [
    "git remote -v\n"
   ]
  },
  {
   "cell_type": "markdown",
   "id": "167886fc-f9a0-48b7-89e1-887f0970c2a9",
   "metadata": {},
   "source": [
    "- #### 2. Para adicionar um novo repositório remoto:"
   ]
  },
  {
   "cell_type": "code",
   "execution_count": null,
   "id": "2efd18eb-42c9-4adc-8fb3-d72b4cdc38c5",
   "metadata": {},
   "outputs": [],
   "source": [
    "git remote add nome_do_remote https://github.com/usuario/novo_repositorio.git\n"
   ]
  },
  {
   "cell_type": "markdown",
   "id": "5f417605-bd75-43a4-afbc-a20a8222436e",
   "metadata": {},
   "source": [
    "## 9. Exemplos Práticos com Diferentes Ferramentas"
   ]
  },
  {
   "cell_type": "markdown",
   "id": "376662de-a410-421b-9189-d8c9b2b81b09",
   "metadata": {},
   "source": [
    "### Usando Visual Studio Code (VSCode)\r\n"
   ]
  },
  {
   "cell_type": "markdown",
   "id": "c3103e28-69fc-4ac8-a610-540744ac5e02",
   "metadata": {},
   "source": [
    "- #### 1. Instalação do VSCode:\r",
    "    - Baixe e instale o [VSCode.](https://code.visualstudio.com/)\r\n",
    "\n"
   ]
  },
  {
   "cell_type": "markdown",
   "id": "1a7b2e26-2367-4568-bf50-fdbfb2162970",
   "metadata": {},
   "source": [
    "- #### 2. Integração com Git:\n",
    "    - O VSCode tem integração nativa com Git. Para iniciar, abra o terminal integrado (Ctrl+`). "
   ]
  },
  {
   "cell_type": "markdown",
   "id": "ec1d17d1-2890-482a-b638-495f85f27a00",
   "metadata": {},
   "source": [
    "- #### 3. Comandos Básicos:.\n"
   ]
  },
  {
   "cell_type": "markdown",
   "id": "41e55afe-7a41-439d-8a1c-ad9bee906cca",
   "metadata": {},
   "source": [
    "- ##### Inicializar um repositório:"
   ]
  },
  {
   "cell_type": "code",
   "execution_count": null,
   "id": "990d4d09-c8f9-4d70-82d4-bcf1445596bb",
   "metadata": {},
   "outputs": [],
   "source": [
    "git init"
   ]
  },
  {
   "cell_type": "markdown",
   "id": "65cb0810-f82b-4817-9341-a359ee3452fc",
   "metadata": {},
   "source": [
    "- ##### Adicionar arquivos:"
   ]
  },
  {
   "cell_type": "code",
   "execution_count": null,
   "id": "0d37691a-7f7b-48d1-95ec-48c613adc159",
   "metadata": {},
   "outputs": [],
   "source": [
    "git add .\n"
   ]
  },
  {
   "cell_type": "markdown",
   "id": "b0d30d60-a690-45de-b00f-4be16ce349ad",
   "metadata": {},
   "source": [
    "- ##### Commit:\r\n"
   ]
  },
  {
   "cell_type": "code",
   "execution_count": null,
   "id": "6a2445fd-f296-4f83-9fe4-5ac609bb9835",
   "metadata": {},
   "outputs": [],
   "source": [
    "git commit -m \"Initial commit\"\n"
   ]
  },
  {
   "cell_type": "markdown",
   "id": "5cc1edf9-5d58-4a56-a14d-ea1f73439acc",
   "metadata": {},
   "source": [
    "- ##### Adicionar repositório remoto:\r\n"
   ]
  },
  {
   "cell_type": "code",
   "execution_count": null,
   "id": "09c48df7-ef9b-4ecf-b72a-7fab72db77cb",
   "metadata": {},
   "outputs": [],
   "source": [
    "git commit -m \"Initial commit\"\n"
   ]
  },
  {
   "cell_type": "markdown",
   "id": "2895c8ac-0e84-487e-bbf5-9b5626fc21c8",
   "metadata": {},
   "source": [
    "- ##### Adicionar repositório remoto:\r\n"
   ]
  },
  {
   "cell_type": "code",
   "execution_count": null,
   "id": "a8f9a7d3-27c4-4282-83ab-d54e0cfe93a6",
   "metadata": {},
   "outputs": [],
   "source": [
    "git remote add origin https://github.com/usuario/repositorio.git\n"
   ]
  },
  {
   "cell_type": "markdown",
   "id": "0914071f-df7a-4d68-a4ad-9adbe0f129d6",
   "metadata": {},
   "source": [
    "- ##### Push"
   ]
  },
  {
   "cell_type": "code",
   "execution_count": null,
   "id": "c8e46a90-b0e6-462b-b300-ee62afcfd29b",
   "metadata": {},
   "outputs": [],
   "source": [
    "git push -u origin main\n"
   ]
  },
  {
   "cell_type": "markdown",
   "id": "2b9b5917-45af-4038-b18c-f70cae614c21",
   "metadata": {},
   "source": [
    "- #### 4. Usando a Interface Gráfica:\r\n",
    "    - No VSCode, você pode usar a aba \"Source Control\" para realizar operações Git como commit, push, pull, etc., sem usar o terminal.\r\n",
    "\n"
   ]
  },
  {
   "cell_type": "markdown",
   "id": "04494834-0e96-4e0c-a8fa-beb9944fa998",
   "metadata": {},
   "source": [
    "### Usando o CMD (Prompt de Comando) Localmente\r\n"
   ]
  },
  {
   "cell_type": "markdown",
   "id": "2c2174f9-ff20-4498-ac9d-f12c58c67a92",
   "metadata": {},
   "source": [
    "- #### 1. Abrindo o CMD:\n",
    "    - Pressione Win + R, digite cmd e pressione Enter.\r\n"
   ]
  },
  {
   "cell_type": "markdown",
   "id": "46f6f9a1-b5fe-44f0-a240-e0ef8664fc4e",
   "metadata": {},
   "source": [
    "- #### 2. Comandos Básicos:\r\n"
   ]
  },
  {
   "cell_type": "markdown",
   "id": "649807f9-6451-4a21-adb4-2d9c3f656c4e",
   "metadata": {},
   "source": [
    "- ##### Navegue até seu diretório de trabalho:\r\n"
   ]
  },
  {
   "cell_type": "code",
   "execution_count": null,
   "id": "7014bffa-11b4-4a55-9bf0-fef387bbfd50",
   "metadata": {},
   "outputs": [],
   "source": [
    "cd caminho\\para\\seu\\diretorio\n"
   ]
  },
  {
   "cell_type": "markdown",
   "id": "d451eb4c-5468-4942-b33e-c25c25db7600",
   "metadata": {},
   "source": [
    "- ##### Inicializar um repositório:\r\n"
   ]
  },
  {
   "cell_type": "code",
   "execution_count": null,
   "id": "7b82e49d-aa74-4f5f-a431-e5b221c38ff3",
   "metadata": {},
   "outputs": [],
   "source": [
    "git init\n"
   ]
  },
  {
   "cell_type": "markdown",
   "id": "05c66cbf-860f-4479-9fee-319e7016e8e2",
   "metadata": {},
   "source": [
    "- ##### Adicionar arquivos:\r\n",
    "\n"
   ]
  },
  {
   "cell_type": "code",
   "execution_count": null,
   "id": "cfb94cae-12ae-4f37-a450-fc9a4f3f7141",
   "metadata": {},
   "outputs": [],
   "source": [
    "git add ."
   ]
  },
  {
   "cell_type": "markdown",
   "id": "373c35b1-1d42-443f-9b8e-c8ec8b5d97e5",
   "metadata": {},
   "source": [
    "- ##### Commit:\r\n"
   ]
  },
  {
   "cell_type": "code",
   "execution_count": null,
   "id": "032e505f-4248-493d-b7a6-e2a89ed1f56b",
   "metadata": {},
   "outputs": [],
   "source": [
    "git commit -m \"Initial commit\""
   ]
  },
  {
   "cell_type": "markdown",
   "id": "812ba770-d4ec-47e5-88dc-70edfc3ac8e2",
   "metadata": {},
   "source": [
    "- ##### Adicionar repositório remoto:\r\n"
   ]
  },
  {
   "cell_type": "code",
   "execution_count": null,
   "id": "2444bba1-311a-47af-bd3c-e3ef8f06e7bf",
   "metadata": {},
   "outputs": [],
   "source": [
    "git remote add origin https://github.com/usuario/repositorio.git\n"
   ]
  },
  {
   "cell_type": "markdown",
   "id": "f8cca737-2c10-414d-84f1-dc0f269c6197",
   "metadata": {},
   "source": [
    "- ##### Push:\r\n"
   ]
  },
  {
   "cell_type": "code",
   "execution_count": null,
   "id": "1a63bf70-1365-4659-b6b0-859a12efaa58",
   "metadata": {},
   "outputs": [],
   "source": [
    "git push -u origin main\n"
   ]
  },
  {
   "cell_type": "markdown",
   "id": "1c79ef0c-a43c-46b5-b969-0a1b56cb5209",
   "metadata": {},
   "source": [
    "### Usando o Google Colab\r\n"
   ]
  },
  {
   "cell_type": "markdown",
   "id": "48f1763a-7106-4f53-b10b-cf9b5b63de4a",
   "metadata": {},
   "source": [
    "- #### 1. Acessando o Google Colab:\n",
    "    - Vá para [Google Colab](https://colab.research.google.com/) e crie um novo notebook.\r\n",
    "\r\n"
   ]
  },
  {
   "cell_type": "markdown",
   "id": "b15ac8c7-e447-4cd3-9ea9-d8ba2409df0d",
   "metadata": {},
   "source": [
    "- #### 2. Configurando Git no Google Colab:\n",
    "    - No Google Colab, você pode executar comandos de terminal prefixando-os com !. Por exemplo, para clonar um repositório:\r\n"
   ]
  },
  {
   "cell_type": "code",
   "execution_count": null,
   "id": "90ff2a14-cccf-4c67-93ea-c3618640d8e5",
   "metadata": {},
   "outputs": [],
   "source": [
    "!git clone https://github.com/usuario/repositorio.git"
   ]
  },
  {
   "cell_type": "markdown",
   "id": "c34f309a-f55a-49f9-9ab8-47dbb64ba52e",
   "metadata": {},
   "source": [
    "- #### 3. Comandos Básicos no Google Colab:\n",
    "\n"
   ]
  },
  {
   "cell_type": "markdown",
   "id": "26d45352-ad2a-4dfb-8d19-f987726e95d8",
   "metadata": {},
   "source": [
    "- ##### 3.1 Navegar até o diretório do repositório:\r\n"
   ]
  },
  {
   "cell_type": "code",
   "execution_count": null,
   "id": "0d6477e0-0d5c-4dd4-a0ed-b95a5496920c",
   "metadata": {},
   "outputs": [],
   "source": [
    "%cd repositorio\n"
   ]
  },
  {
   "cell_type": "markdown",
   "id": "190f7194-f1b9-4c51-9ff1-35d1a51a2d2c",
   "metadata": {},
   "source": [
    "- ##### 3.2 Verificar status:\r\n"
   ]
  },
  {
   "cell_type": "code",
   "execution_count": null,
   "id": "766f4728-159a-499f-b99c-1abb43e25456",
   "metadata": {},
   "outputs": [],
   "source": [
    "!git status\n"
   ]
  },
  {
   "cell_type": "markdown",
   "id": "97e59189-abee-4de7-945e-1495d3998124",
   "metadata": {},
   "source": [
    "- ##### 3.3 Adicionar arquivos:\r\n"
   ]
  },
  {
   "cell_type": "code",
   "execution_count": null,
   "id": "1cc1d38d-831d-43ec-b8f1-10d62c3dbc7b",
   "metadata": {},
   "outputs": [],
   "source": [
    "!git add .\n"
   ]
  },
  {
   "cell_type": "markdown",
   "id": "0d4d626e-a467-4ad3-a56f-e1d9a7079cc2",
   "metadata": {},
   "source": [
    "- ##### 3.4 Commit:\r\n"
   ]
  },
  {
   "cell_type": "code",
   "execution_count": null,
   "id": "c474fdb9-158d-4ac0-89dd-54336877ed23",
   "metadata": {},
   "outputs": [],
   "source": [
    "!git commit -m \"Commit message\"\n"
   ]
  },
  {
   "cell_type": "markdown",
   "id": "13683a80-b521-4eb5-af1f-92d7b524961a",
   "metadata": {},
   "source": [
    "- ##### 3.5 Push:\r\n"
   ]
  },
  {
   "cell_type": "code",
   "execution_count": null,
   "id": "81d77b4a-b2a6-454c-a782-ce5601f9c1ac",
   "metadata": {},
   "outputs": [],
   "source": [
    "!git push origin main\n"
   ]
  },
  {
   "cell_type": "markdown",
   "id": "3899e515-efd5-4a35-82f4-6bc30cc484f5",
   "metadata": {},
   "source": [
    "## 10. Exemplos Práticos e Fluxogramas\r\n",
    "\n",
    "\r\n"
   ]
  },
  {
   "cell_type": "markdown",
   "id": "27fe7086-af76-4f47-b42c-d36ca8b80732",
   "metadata": {},
   "source": [
    "### Fluxograma: Enviando uma Pasta Local para o GitHub\n",
    "\n",
    "#### 1. Início\n",
    "\n",
    "#### 2. Criar uma pasta local e inicializar o repositório:\n",
    "- `git init`\n",
    "\n",
    "#### 3. Adicionar arquivos à área de staging:\n",
    "- `git add .`\n",
    "\n",
    "#### 4. Fazer um commit:\n",
    "- `git commit -m \"Initial commit\"`\n",
    "\n",
    "#### 5. Adicionar repositório remoto:\n",
    "- `git remote add origin https://github.com/usuario/repositorio.git`\n",
    "\n",
    "#### 6. Enviar para o GitHub:\n",
    "- `git push -u origin main`\n",
    "\n",
    "#### 7. Fim\n"
   ]
  },
  {
   "cell_type": "markdown",
   "id": "b3cedfcf-d590-4d2f-93ca-52d1cda947cf",
   "metadata": {},
   "source": [
    "### Fluxograma: Baixando e Modificando Arquivo do GitHub\n",
    "\n",
    "#### 1. Início\n",
    "\n",
    "#### 2. Clonar repositório do GitHub:\n",
    "- `git clone https://github.com/usuario/repositorio.git`\n",
    "\n",
    "#### 3. Navegar para o diretório do repositório:\n",
    "- `cd repositorio`\n",
    "\n",
    "#### 4. Modificar ou adicionar arquivos.\n",
    "\n",
    "#### 5. Adicionar modificações à área de staging:\n",
    "- `git add nome_do_arquivo.extensao`\n",
    "\n",
    "#### 6. Fazer um commit:\n",
    "- `git commit -m \"Mensagem descritiva\"`\n",
    "\n",
    "#### 7. Enviar modificações para o GitHub:\n",
    "- `git push origin main`\n",
    "\n",
    "#### 8. Fim"
   ]
  },
  {
   "cell_type": "markdown",
   "id": "b840a385-628c-4727-adc8-42dcb273e94b",
   "metadata": {},
   "source": [
    "## 11. Exemplos Práticos com Diferentes Ferramentas"
   ]
  },
  {
   "cell_type": "markdown",
   "id": "edfeb71c-7003-4e96-8e49-3bf068c646b6",
   "metadata": {},
   "source": [
    "### Usando Visual Studio Code (VSCode)\n"
   ]
  },
  {
   "cell_type": "markdown",
   "id": "d06591de-d29a-46eb-ab78-5249b033536b",
   "metadata": {},
   "source": [
    "#### 1. Abrindo o VSCode:\n",
    "- Após instalar o VSCode, abra-o.\n",
    "\n",
    "#### 2. Abrindo o Terminal Integrado:\n",
    "- Pressione `Ctrl + `` (Ctrl + acento grave) para abrir o terminal integrado.\n",
    "\n",
    "#### 3. Inicializando o Repositório no VSCode:\n",
    "- No terminal integrado, navegue até o diretório do seu projeto e inicialize o Git:\n",
    "\n",
    "- `cd caminho/do/seu/projeto`\n",
    "- `git init`\n",
    "\n",
    "#### 4. Adicionando Arquivos:\n",
    "- No terminal integrado:\n",
    "- `git add .`\n",
    "\n",
    "#### 5. Fazendo um Commit:\n",
    "- `git commit -m \"Initial commit\"`\n",
    "\n",
    "#### 6. Adicionando o Repositório Remoto:\n",
    "- `git remote add origin https://github.com/usuario/repositorio.git`\n",
    "\n",
    "#### 7. Enviando para o GitHub:\n",
    "- `git push -u origin main`"
   ]
  },
  {
   "cell_type": "markdown",
   "id": "0d7d32f4-b245-4bbc-9dda-609c4a52f26a",
   "metadata": {},
   "source": [
    "\n",
    "### Usando o CMD (Prompt de Comando) Localmente\r\n"
   ]
  },
  {
   "cell_type": "markdown",
   "id": "a1053158-4af8-4895-94a3-8b9b3b0c1688",
   "metadata": {},
   "source": [
    "#### 1. Abrindo o CMD:\n",
    "- Pressione `Win + R`, digite cmd e pressione Enter.\n",
    "\n",
    "#### 2. Navegando até o Diretório do Projeto:\n",
    "- `cd caminho\\para\\seu\\diretorio`\n",
    "\n",
    "#### 3. Inicializando o Repositório:\n",
    "- `git init`\n",
    "\n",
    "#### 4. Adicionando Arquivos:\n",
    "- `git add .`\n",
    "\n",
    "#### 5. Fazendo um Commit:\n",
    "- `git commit -m \"Initial commit\"`\n",
    "\n",
    "#### 6. Adicionando o Repositório Remoto:\n",
    "- `git remote add origin https://github.com/usuario/repositorio.git`\n",
    "\n",
    "#### 7. Enviando para o GitHub:\n",
    "- `git push -u origin main`"
   ]
  },
  {
   "cell_type": "markdown",
   "id": "9b4d0716-16f5-48c1-8b7f-8c816d91e111",
   "metadata": {},
   "source": [
    "### Usando o Google Colab - Exemplos práticos\n",
    "\n",
    "#### 1. Acessando o Google Colab:\n",
    "- Vá para Google Colab e crie um novo notebook.\n",
    "\n",
    "#### 2. Clonando um Repositório:\n",
    "- No primeiro bloco de código do notebook, execute:\n",
    "- `!git clone https://github.com/usuario/repositorio.git`\n",
    "  \n",
    "#### 3. Navegando até o Diretório do Repositório:\n",
    "- `%cd repositorio`\n",
    "\n",
    "#### 4. Verificando o Status:\n",
    "- `!git status`\n",
    "  \n",
    "#### 5. Adicionando Arquivos:\n",
    "- `!git add .`\n",
    "  \n",
    "#### 6. Fazendo um Commit:\n",
    "- `!git commit -m \"Commit message\"`\n",
    "  \n",
    "#### 7. Enviando para o GitHub:\n",
    "- `!git push origin main`"
   ]
  },
  {
   "cell_type": "markdown",
   "id": "9c026450-f17c-47e4-ba09-0d045a9bfb02",
   "metadata": {},
   "source": [
    "## 12. Dicas e Boas Práticas"
   ]
  },
  {
   "cell_type": "markdown",
   "id": "9e9d8f8d-46c1-4adc-bdd9-54ac8ea1dddd",
   "metadata": {},
   "source": [
    "### Mensagens de Commit Descritivas\n",
    "- Sempre use mensagens de commit que descrevam claramente o que foi alterado.\n",
    "- Exemplo:\n",
    "    - `git commit -m \"Adiciona função de login ao projeto\"`\n",
    "      \n",
    "### Commit Pequenos e Frequentes\n",
    "- Faça commits pequenos e frequentes para facilitar o rastreamento de mudanças e a resolução de problemas.\n",
    "\n",
    "### Uso de Branches\n",
    "- Utilize branches para desenvolver novas funcionalidades ou corrigir bugs sem interferir no branch principal.\n",
    "\n",
    "### Verificação de Status Regular\n",
    "- Use git status frequentemente para verificar o estado do seu repositório e evitar confusões.\n",
    "  \n",
    "### Documentação\n",
    "- Mantenha um README.md atualizado com informações sobre o projeto, como instruções de instalação e uso."
   ]
  },
  {
   "cell_type": "markdown",
   "id": "cbded0a2-fdf9-4758-baaf-89131141a7e1",
   "metadata": {},
   "source": [
    "##  13. Exercícios Práticos\n",
    "\n"
   ]
  },
  {
   "cell_type": "markdown",
   "id": "fba25f47-cf90-4285-877f-c0c1b6499203",
   "metadata": {},
   "source": [
    "### Exercício 1: Inicializar e Configurar um Repositório Local\n",
    "- 1. Crie uma nova pasta para o seu projeto.\n",
    "- 2. Inicialize um repositório Git nessa pasta.\n",
    "- 3. Crie um arquivo README.md com uma breve descrição do projeto.\n",
    "- 4. Adicione o arquivo à área de staging.\n",
    "- 5. Faça um commit com uma mensagem descritiva.\n",
    " \n"
   ]
  },
  {
   "cell_type": "markdown",
   "id": "4aac037c-679a-4d8e-af38-f09b43239669",
   "metadata": {},
   "source": [
    "### Exercício 2: Clonar um Repositório e Modificar um Arquivo\n",
    "- 1. Clone um repositório público do GitHub.\n",
    "- 2. Navegue até o diretório do repositório clonado.\n",
    "- 3. Adicione uma nova linha ao README.md.\n",
    "- 4. Adicione as mudanças à área de staging e faça um commit.\n",
    "- 5. Envie as mudanças para o repositório remoto.\n"
   ]
  },
  {
   "cell_type": "markdown",
   "id": "00ed99a2-4f67-4168-9ba8-dbc3cc4a5446",
   "metadata": {},
   "source": [
    "### Exercício 3: Criar e Alternar entre Branches\n",
    "- 1. No seu repositório local, crie um novo branch chamado feature.\n",
    "- 2. Altere para o branch feature.\n",
    "- 3. Crie um novo arquivo feature.txt e adicione algum texto nele.\n",
    "- 4. Adicione o arquivo à área de staging e faça um commit.\n",
    "- 5. Altere para o branch main.\n",
    "- 6. Faça o merge do branch feature no branch main."
   ]
  },
  {
   "cell_type": "markdown",
   "id": "caacacd9-45ef-478c-adfb-36c209697ca7",
   "metadata": {},
   "source": [
    "## 14. Recursos Adicionais\n",
    "- [Documentação Oficial do Gi](https://git-scm.com/doc)\n",
    "- [Guia do Git no GitH](https://docs.github.com/en/get-started/using-git/about-git)"
   ]
  },
  {
   "cell_type": "code",
   "execution_count": null,
   "id": "59c3a5d7-b24c-4c80-bada-2bb4a014e0fd",
   "metadata": {},
   "outputs": [],
   "source": []
  }
 ],
 "metadata": {
  "kernelspec": {
   "display_name": "Python 3 (ipykernel)",
   "language": "python",
   "name": "python3"
  },
  "language_info": {
   "codemirror_mode": {
    "name": "ipython",
    "version": 3
   },
   "file_extension": ".py",
   "mimetype": "text/x-python",
   "name": "python",
   "nbconvert_exporter": "python",
   "pygments_lexer": "ipython3",
   "version": "3.11.5"
  }
 },
 "nbformat": 4,
 "nbformat_minor": 5
}
