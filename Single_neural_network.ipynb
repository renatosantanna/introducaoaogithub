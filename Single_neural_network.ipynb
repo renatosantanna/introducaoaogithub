{
 "cells": [
  {
   "cell_type": "code",
   "execution_count": 1,
   "metadata": {},
   "outputs": [],
   "source": [
    "#primeiro importa pytorch \n",
    "import torch"
   ]
  },
  {
   "cell_type": "code",
   "execution_count": 6,
   "metadata": {},
   "outputs": [],
   "source": [
    "# Argumento x: torch.Tensor \n",
    "def activaction(x):\n",
    "    return 1/( 1+ torch.exp(-x))   \n",
    "    "
   ]
  },
  {
   "cell_type": "code",
   "execution_count": 13,
   "metadata": {},
   "outputs": [],
   "source": [
    "## Generate some data \n",
    "torch.manual_seed(7) #Set the random seed so thing are predictable\n",
    "\n",
    "# Feature are 5 random normal variables \n",
    "features = torch.randn((1,5))\n",
    "#True weights for our data, randon normal variables again \n",
    "weights = torch.randn_like(features)\n",
    "# and a true bias term\n",
    "bias = torch.randn((1,1))\n",
    "## torch.mm(features,weights) errado solução abaixo "
   ]
  },
  {
   "cell_type": "code",
   "execution_count": 16,
   "metadata": {},
   "outputs": [
    {
     "name": "stdout",
     "output_type": "stream",
     "text": [
      "tensor([[0.1595]])\n",
      "tensor([[0.1595]])\n"
     ]
    }
   ],
   "source": [
    "## Solution \n",
    "\n",
    "#Now, make our labels from data and true weights\n",
    "\n",
    "y = activaction(torch.sum(features * weights)+bias)\n",
    "print(y)\n",
    "y = activaction((features * weights).sum() + bias)\n",
    "print(y)"
   ]
  },
  {
   "cell_type": "code",
   "execution_count": 17,
   "metadata": {},
   "outputs": [
    {
     "data": {
      "text/plain": [
       "tensor([[-1.9796]])"
      ]
     },
     "execution_count": 17,
     "metadata": {},
     "output_type": "execute_result"
    }
   ],
   "source": [
    "# torch.mm(features,weights) este metodo e errado porque matriz multiplica m1= 1x5 m2 =1x5  da erro  \n",
    "\n",
    "# Calculate the output of this single layer network using matrix multiplication\n",
    "torch.mm(features,weights.view(5,1)) "
   ]
  },
  {
   "cell_type": "code",
   "execution_count": null,
   "metadata": {},
   "outputs": [],
   "source": []
  }
 ],
 "metadata": {
  "kernelspec": {
   "display_name": "Python 3",
   "language": "python",
   "name": "python3"
  },
  "language_info": {
   "codemirror_mode": {
    "name": "ipython",
    "version": 3
   },
   "file_extension": ".py",
   "mimetype": "text/x-python",
   "name": "python",
   "nbconvert_exporter": "python",
   "pygments_lexer": "ipython3",
   "version": "3.6.5"
  }
 },
 "nbformat": 4,
 "nbformat_minor": 2
}
"# Single_neural_network" 
